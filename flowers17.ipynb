{
 "cells": [
  {
   "cell_type": "markdown",
   "metadata": {},
   "source": [
    "# Image-Based Flower Classification"
   ]
  },
  {
   "cell_type": "markdown",
   "metadata": {},
   "source": [
    "### Luis R. Reyes\n",
    "\n",
    "luis.ra.reyes@gmail.com\n",
    "\n",
    "---"
   ]
  },
  {
   "cell_type": "markdown",
   "metadata": {},
   "source": [
    "## Relevant Libraries"
   ]
  },
  {
   "cell_type": "code",
   "execution_count": null,
   "metadata": {
    "collapsed": false
   },
   "outputs": [],
   "source": [
    "\n",
    "# Relevant libraries\n",
    "\n",
    "from sklearn.metrics import classification_report, confusion_matrix, accuracy_score\n",
    "from sklearn.model_selection import train_test_split, cross_val_score\n",
    "from sklearn.svm import LinearSVC\n",
    "import matplotlib.pyplot as plt\n",
    "import tensorflow as tf\n",
    "import seaborn as sns\n",
    "import numpy as np\n",
    "import tarfile\n",
    "import urllib\n",
    "import cv2\n",
    "import os\n",
    "import re\n",
    "\n",
    "%matplotlib inline \n",
    "#"
   ]
  },
  {
   "cell_type": "markdown",
   "metadata": {},
   "source": [
    "## Data Retrieval"
   ]
  },
  {
   "cell_type": "code",
   "execution_count": null,
   "metadata": {
    "collapsed": false
   },
   "outputs": [],
   "source": [
    "\n",
    "# Data retrieval (Desktop wil be used as workspace.)\n",
    "\n",
    "def get_data():\n",
    "    \n",
    "    url = \"http://www.robots.ox.ac.uk/~vgg/data/flowers/17/17flowers.tgz\"\n",
    "    print (\"\\ndownloading flower images...\")    \n",
    "    filename, headers = urllib.request.urlretrieve(\n",
    "        url,filename=os.path.expanduser(\"~/Desktop/17flowers.tgz\"))    \n",
    "    print (\"download complete!\")\n",
    "\n",
    "    os.chdir(os.path.expanduser(\"~/Desktop/\"))\n",
    "    print (\"extracting flower images...\")\n",
    "    tar = tarfile.open(os.path.expanduser(\"~/Desktop/17flowers.tgz\"), \"r:gz\")\n",
    "    tar.extractall()\n",
    "    tar.close()\n",
    "    print (\"extract complete!\")\n",
    "    \n",
    "    print (\"downloading tensorflow component...\")\n",
    "    urllib.request.urlretrieve(\"https://raw.githubusercontent.com/tensorflow/models/master/tutorials/image/imagenet/classify_image.py\",\n",
    "                           filename=os.path.expanduser(\"~/Desktop/classify_image.py\"))\n",
    "    print (\"download complete!\")\n",
    "    \n",
    "    os.chdir(os.path.expanduser(\"~/Desktop/\"))\n",
    "    print (\"generating graph...\")\n",
    "    os.system(\"python classify_image.py --model_dir ~/Desktop/graph/\")\n",
    "    print (\"graph complete!\\n\")\n",
    "\n",
    "get_data()\n",
    "\n",
    "#"
   ]
  },
  {
   "cell_type": "markdown",
   "metadata": {},
   "source": [
    "## Data Prep"
   ]
  },
  {
   "cell_type": "code",
   "execution_count": 12,
   "metadata": {
    "collapsed": true
   },
   "outputs": [],
   "source": [
    "# Classes\n",
    "\n",
    "classes = ['Daffodil','Snowdrop', 'Lily Valley', 'Bluebell',\n",
    "           'Crocus', 'Iris', 'Tigerlily', 'Tulip',\n",
    "           'Fritillary', 'Sunflower', 'Daisy', 'Colts Foot',\n",
    "            'Dandelalion', 'Cowslip', 'Buttercup', 'Windflower',\n",
    "            'Pansy']\n",
    "\n",
    "y = np.repeat(classes, 80)\n",
    "\n",
    "#\n",
    "\n",
    "# Image files\n",
    "\n",
    "images = []\n",
    "loc = os.path.expanduser(\"~/Desktop/jpg\")\n",
    "\n",
    "for filename in sorted(os.listdir(loc)):\n",
    "    \n",
    "    img = cv2.imread(os.path.join(loc,filename))    \n",
    "    \n",
    "    if img is not None:\n",
    "        img = cv2.cvtColor(img, cv2.COLOR_BGR2RGB)\n",
    "        images.append(img)\n",
    "\n",
    "images = np.asarray(images)\n",
    "\n",
    "#"
   ]
  },
  {
   "cell_type": "markdown",
   "metadata": {},
   "source": [
    "## Tensor Prep"
   ]
  },
  {
   "cell_type": "code",
   "execution_count": 13,
   "metadata": {
    "collapsed": false
   },
   "outputs": [
    {
     "name": "stdout",
     "output_type": "stream",
     "text": [
      "Processing jpg/Daffodil_1.jpg...\n",
      "Processing jpg/Snowdrop_101.jpg...\n",
      "Processing jpg/Lily Valley_201.jpg...\n",
      "Processing jpg/Bluebell_301.jpg...\n",
      "Processing jpg/Iris_401.jpg...\n",
      "Processing jpg/Tigerlily_501.jpg...\n",
      "Processing jpg/Tulip_601.jpg...\n",
      "Processing jpg/Fritillary_701.jpg...\n",
      "Processing jpg/Daisy_801.jpg...\n",
      "Processing jpg/Colts Foot_901.jpg...\n",
      "Processing jpg/Dandelalion_1001.jpg...\n",
      "Processing jpg/Cowslip_1101.jpg...\n",
      "Processing jpg/Windflower_1201.jpg...\n",
      "Processing jpg/Pansy_1301.jpg...\n"
     ]
    }
   ],
   "source": [
    "# Tensor prep\n",
    "\n",
    "path = os.path.expanduser(\"~/Desktop/jpg\")\n",
    "files = sorted(os.listdir(path))\n",
    "i = 1\n",
    "\n",
    "for file in files:    # Rename image files\n",
    "    if re.search(\"jpg\", file):        \n",
    "        os.rename(os.path.join(path, file), os.path.join(path, y[i-1]+'_'+str(i)+'.jpg'))\n",
    "        i = i+1     \n",
    "#\n",
    "\n",
    "# Tensorflow\n",
    "\n",
    "model_dir = os.path.expanduser(\"~/Desktop/graph/\") \n",
    "os.chdir(os.path.expanduser(\"~/Desktop/\"))\n",
    "images_dir = \"jpg/\"\n",
    "\n",
    "list_images = [images_dir+f for f in os.listdir(images_dir) if re.search(\"jpg\", f)] # List of new image filenames\n",
    "\n",
    "\n",
    "tmp = []\n",
    "\n",
    "for i in range(len(list_images)): # Retrieve numbers from filenames\n",
    "    \n",
    "    t = re.findall(r\"\\d+\", list_images[i])\n",
    "    tmp.append(int(t[0]))\n",
    "\n",
    "list_images = [x for (y,x) in sorted(zip(tmp,list_images))] # Order image files by number\n",
    "\n",
    "\n",
    "def create_graph(): # Create instance of the trained model\n",
    "    \n",
    "    with tf.gfile.FastGFile(os.path.join(model_dir, \"classify_image_graph_def.pb\"), \"rb\") as f:\n",
    "        \n",
    "        graph_def = tf.GraphDef()\n",
    "        graph_def.ParseFromString(f.read())\n",
    "        _ = tf.import_graph_def(graph_def, name='')\n",
    "\n",
    "def extract_features(list_images):\n",
    "    \n",
    "    nb_features = 2048\n",
    "    features = np.empty((len(list_images), nb_features))\n",
    "    labels = []\n",
    "    \n",
    "    create_graph() # Initiate instance of the trained model\n",
    "    sess = tf.Session() # Open session\n",
    "    penultimate_tensor = sess.graph.get_tensor_by_name('pool_3:0') # Retrieve penultimate layer\n",
    "    \n",
    "    for i in range(len(list_images)): # Feed image into layer and retrieve features and label\n",
    "        \n",
    "        if (i%100 == 0):\n",
    "            print(\"Processing %s...\" % (list_images[i]))\n",
    "            \n",
    "        preds = sess.run(penultimate_tensor,\n",
    "                           {'DecodeJpeg:0': images[i]})\n",
    "        features[i,:] = np.squeeze(preds)\n",
    "        labels.append(re.split(\"_\\d+\",list_images[i].split(\"/\")[1])[0])\n",
    "\n",
    "    sess.close() # Close session    \n",
    "        \n",
    "    return features, labels\n",
    "\n",
    "features, labels = extract_features(list_images)\n",
    "\n",
    "#"
   ]
  },
  {
   "cell_type": "markdown",
   "metadata": {},
   "source": [
    "## Model Selection"
   ]
  },
  {
   "cell_type": "code",
   "execution_count": 14,
   "metadata": {
    "collapsed": true
   },
   "outputs": [],
   "source": [
    "#\n",
    "\n",
    "model = LinearSVC(C=1, loss='squared_hinge', penalty='l2',multi_class='ovr')\n",
    "\n",
    "#"
   ]
  },
  {
   "cell_type": "markdown",
   "metadata": {},
   "source": [
    "## Model Performance"
   ]
  },
  {
   "cell_type": "code",
   "execution_count": 15,
   "metadata": {
    "collapsed": false
   },
   "outputs": [
    {
     "name": "stdout",
     "output_type": "stream",
     "text": [
      "\n",
      "Linear SVC Accuracy (Ten-Fold CV): 0.9514705882352942 \n",
      "\n",
      "Linear SVC Accuracy (Holdout Set): 0.9436274509803921 \n",
      "\n",
      "Linear SVC Classification Report: \n",
      "\n",
      "             precision    recall  f1-score   support\n",
      "\n",
      "   Daffodil       0.96      0.96      0.96        24\n",
      "   Snowdrop       1.00      0.95      0.98        21\n",
      "Lily Valley       0.95      0.91      0.93        23\n",
      "   Bluebell       1.00      0.88      0.94        26\n",
      "     Crocus       0.96      0.96      0.96        27\n",
      "       Iris       0.87      0.87      0.87        23\n",
      "  Tigerlily       1.00      1.00      1.00        22\n",
      "      Tulip       0.94      0.84      0.89        19\n",
      " Fritillary       1.00      0.93      0.97        30\n",
      "  Sunflower       1.00      1.00      1.00        24\n",
      "      Daisy       0.87      0.87      0.87        23\n",
      " Colts Foot       1.00      1.00      1.00        30\n",
      "Dandelalion       0.82      0.92      0.87        25\n",
      "    Cowslip       0.96      1.00      0.98        24\n",
      "  Buttercup       0.96      0.96      0.96        24\n",
      " Windflower       0.81      0.96      0.88        27\n",
      "      Pansy       1.00      1.00      1.00        16\n",
      "\n",
      "avg / total       0.95      0.94      0.94       408\n",
      "\n"
     ]
    },
    {
     "data": {
      "image/png": "[encoded data removed]",
      "text/plain": [
       "<matplotlib.figure.Figure at 0x10edf30f0>"
      ]
     },
     "metadata": {},
     "output_type": "display_data"
    }
   ],
   "source": [
    "# Linear SVC performance/results \n",
    "\n",
    "Xtrain, Xtest, ytrain, ytest = train_test_split(features, labels,\n",
    "                                                random_state = 7,\n",
    "                                                test_size = 0.3\n",
    "                                                )\n",
    "\n",
    "model.fit(Xtrain, ytrain)\n",
    "\n",
    "ypred = model.predict(Xtest)\n",
    "\n",
    "print(\"\\nLinear SVC Accuracy (Ten-Fold CV):\", cross_val_score(model, features, labels, cv=10).mean(), \"\\n\")\n",
    "\n",
    "print(\"Linear SVC Accuracy (Holdout Set):\", accuracy_score(ytest, ypred), \"\\n\")\n",
    "\n",
    "print(\"Linear SVC Classification Report:\", \"\\n\")\n",
    "\n",
    "print(classification_report(ytest, model.predict(Xtest), \n",
    "                            target_names = classes))\n",
    "\n",
    "plt.figure(figsize=(8, 8))\n",
    "mat = confusion_matrix(ytest, ypred)\n",
    "ax = sns.heatmap(mat.T, square = True, annot = True, fmt='d', cbar=False,\n",
    "            xticklabels = classes, yticklabels= classes)\n",
    "plt.xlabel('true label')\n",
    "plt.ylabel('pred label')\n",
    "plt.title('Linear SVC Heatmap')\n",
    "plt.show();\n",
    "\n",
    "#"
   ]
  }
 ],
 "metadata": {
  "anaconda-cloud": {},
  "kernelspec": {
   "display_name": "Python [default]",
   "language": "python",
   "name": "python3"
  },
  "language_info": {
   "codemirror_mode": {
    "name": "ipython",
    "version": 3
   },
   "file_extension": ".py",
   "mimetype": "text/x-python",
   "name": "python",
   "nbconvert_exporter": "python",
   "pygments_lexer": "ipython3",
   "version": "3.5.4"
  }
 },
 "nbformat": 4,
 "nbformat_minor": 2
}
